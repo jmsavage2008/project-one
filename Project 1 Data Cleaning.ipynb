{
 "cells": [
  {
   "cell_type": "code",
   "execution_count": 46,
   "id": "c9db3a62",
   "metadata": {},
   "outputs": [
    {
     "data": {
      "text/html": [
       "<div>\n",
       "<style scoped>\n",
       "    .dataframe tbody tr th:only-of-type {\n",
       "        vertical-align: middle;\n",
       "    }\n",
       "\n",
       "    .dataframe tbody tr th {\n",
       "        vertical-align: top;\n",
       "    }\n",
       "\n",
       "    .dataframe thead th {\n",
       "        text-align: right;\n",
       "    }\n",
       "</style>\n",
       "<table border=\"1\" class=\"dataframe\">\n",
       "  <thead>\n",
       "    <tr style=\"text-align: right;\">\n",
       "      <th></th>\n",
       "      <th>Id</th>\n",
       "      <th>Pregnancies</th>\n",
       "      <th>Glucose</th>\n",
       "      <th>BloodPressure</th>\n",
       "      <th>SkinThickness</th>\n",
       "      <th>Insulin</th>\n",
       "      <th>BMI</th>\n",
       "      <th>DiabetesPedigreeFunction</th>\n",
       "      <th>Age</th>\n",
       "      <th>Outcome</th>\n",
       "    </tr>\n",
       "  </thead>\n",
       "  <tbody>\n",
       "    <tr>\n",
       "      <th>0</th>\n",
       "      <td>1</td>\n",
       "      <td>6</td>\n",
       "      <td>148</td>\n",
       "      <td>72</td>\n",
       "      <td>35</td>\n",
       "      <td>0</td>\n",
       "      <td>33.6</td>\n",
       "      <td>0.627</td>\n",
       "      <td>50</td>\n",
       "      <td>1</td>\n",
       "    </tr>\n",
       "    <tr>\n",
       "      <th>1</th>\n",
       "      <td>2</td>\n",
       "      <td>1</td>\n",
       "      <td>85</td>\n",
       "      <td>66</td>\n",
       "      <td>29</td>\n",
       "      <td>0</td>\n",
       "      <td>26.6</td>\n",
       "      <td>0.351</td>\n",
       "      <td>31</td>\n",
       "      <td>0</td>\n",
       "    </tr>\n",
       "    <tr>\n",
       "      <th>2</th>\n",
       "      <td>3</td>\n",
       "      <td>8</td>\n",
       "      <td>183</td>\n",
       "      <td>64</td>\n",
       "      <td>0</td>\n",
       "      <td>0</td>\n",
       "      <td>23.3</td>\n",
       "      <td>0.672</td>\n",
       "      <td>32</td>\n",
       "      <td>1</td>\n",
       "    </tr>\n",
       "    <tr>\n",
       "      <th>3</th>\n",
       "      <td>4</td>\n",
       "      <td>1</td>\n",
       "      <td>89</td>\n",
       "      <td>66</td>\n",
       "      <td>23</td>\n",
       "      <td>94</td>\n",
       "      <td>28.1</td>\n",
       "      <td>0.167</td>\n",
       "      <td>21</td>\n",
       "      <td>0</td>\n",
       "    </tr>\n",
       "    <tr>\n",
       "      <th>4</th>\n",
       "      <td>5</td>\n",
       "      <td>0</td>\n",
       "      <td>137</td>\n",
       "      <td>40</td>\n",
       "      <td>35</td>\n",
       "      <td>168</td>\n",
       "      <td>43.1</td>\n",
       "      <td>2.288</td>\n",
       "      <td>33</td>\n",
       "      <td>1</td>\n",
       "    </tr>\n",
       "  </tbody>\n",
       "</table>\n",
       "</div>"
      ],
      "text/plain": [
       "   Id  Pregnancies  Glucose  BloodPressure  SkinThickness  Insulin   BMI  \\\n",
       "0   1            6      148             72             35        0  33.6   \n",
       "1   2            1       85             66             29        0  26.6   \n",
       "2   3            8      183             64              0        0  23.3   \n",
       "3   4            1       89             66             23       94  28.1   \n",
       "4   5            0      137             40             35      168  43.1   \n",
       "\n",
       "   DiabetesPedigreeFunction  Age  Outcome  \n",
       "0                     0.627   50        1  \n",
       "1                     0.351   31        0  \n",
       "2                     0.672   32        1  \n",
       "3                     0.167   21        0  \n",
       "4                     2.288   33        1  "
      ]
     },
     "execution_count": 46,
     "metadata": {},
     "output_type": "execute_result"
    }
   ],
   "source": [
    "#Dependencies and Setup\n",
    "import matplotlib.pyplot as plt\n",
    "import pandas as pd\n",
    "import scipy.stats as st\n",
    "from scipy.stats import linregress\n",
    "import numpy as np\n",
    "\n",
    "#Upload from csv\n",
    "data_set_path = \"Healthcare-Diabetes.csv\"\n",
    "\n",
    "#Read data and results\n",
    "data_set_df = pd.read_csv(data_set_path)\n",
    "\n",
    "data_set_df.head()\n",
    "\n"
   ]
  },
  {
   "cell_type": "markdown",
   "id": "25b4b8db",
   "metadata": {},
   "source": [
    "# Clean the Data"
   ]
  },
  {
   "cell_type": "code",
   "execution_count": 47,
   "id": "e63becc7",
   "metadata": {},
   "outputs": [
    {
     "data": {
      "text/plain": [
       "2768"
      ]
     },
     "execution_count": 47,
     "metadata": {},
     "output_type": "execute_result"
    }
   ],
   "source": [
    "#Identify how many unique ids there are\n",
    "id_unique = data_set_df[\"Id\"].value_counts()\n",
    "id_unique\n",
    "\n",
    "#Count total number of participants\n",
    "id_count = len(id_unique)\n",
    "id_count"
   ]
  },
  {
   "cell_type": "code",
   "execution_count": 48,
   "id": "4f919070",
   "metadata": {},
   "outputs": [
    {
     "data": {
      "text/plain": [
       "Index(['Id', 'Pregnancies', 'Glucose', 'BloodPressure', 'SkinThickness',\n",
       "       'Insulin', 'BMI', 'DiabetesPedigreeFunction', 'Age', 'Outcome'],\n",
       "      dtype='object')"
      ]
     },
     "execution_count": 48,
     "metadata": {},
     "output_type": "execute_result"
    }
   ],
   "source": [
    "#List of all columns\n",
    "data_set_df.columns"
   ]
  },
  {
   "cell_type": "code",
   "execution_count": 49,
   "id": "c5d66a5a",
   "metadata": {},
   "outputs": [
    {
     "data": {
      "text/html": [
       "<div>\n",
       "<style scoped>\n",
       "    .dataframe tbody tr th:only-of-type {\n",
       "        vertical-align: middle;\n",
       "    }\n",
       "\n",
       "    .dataframe tbody tr th {\n",
       "        vertical-align: top;\n",
       "    }\n",
       "\n",
       "    .dataframe thead th {\n",
       "        text-align: right;\n",
       "    }\n",
       "</style>\n",
       "<table border=\"1\" class=\"dataframe\">\n",
       "  <thead>\n",
       "    <tr style=\"text-align: right;\">\n",
       "      <th></th>\n",
       "      <th>Id</th>\n",
       "      <th>Age</th>\n",
       "      <th>Pregnancies</th>\n",
       "      <th>Glucose</th>\n",
       "      <th>BloodPressure</th>\n",
       "      <th>SkinThickness</th>\n",
       "      <th>Insulin</th>\n",
       "      <th>BMI</th>\n",
       "      <th>DiabetesPedigreeFunction</th>\n",
       "      <th>Outcome</th>\n",
       "    </tr>\n",
       "  </thead>\n",
       "  <tbody>\n",
       "    <tr>\n",
       "      <th>0</th>\n",
       "      <td>1</td>\n",
       "      <td>50</td>\n",
       "      <td>6</td>\n",
       "      <td>148</td>\n",
       "      <td>72</td>\n",
       "      <td>35</td>\n",
       "      <td>0</td>\n",
       "      <td>33.6</td>\n",
       "      <td>0.627</td>\n",
       "      <td>1</td>\n",
       "    </tr>\n",
       "    <tr>\n",
       "      <th>1</th>\n",
       "      <td>2</td>\n",
       "      <td>31</td>\n",
       "      <td>1</td>\n",
       "      <td>85</td>\n",
       "      <td>66</td>\n",
       "      <td>29</td>\n",
       "      <td>0</td>\n",
       "      <td>26.6</td>\n",
       "      <td>0.351</td>\n",
       "      <td>0</td>\n",
       "    </tr>\n",
       "    <tr>\n",
       "      <th>2</th>\n",
       "      <td>3</td>\n",
       "      <td>32</td>\n",
       "      <td>8</td>\n",
       "      <td>183</td>\n",
       "      <td>64</td>\n",
       "      <td>0</td>\n",
       "      <td>0</td>\n",
       "      <td>23.3</td>\n",
       "      <td>0.672</td>\n",
       "      <td>1</td>\n",
       "    </tr>\n",
       "    <tr>\n",
       "      <th>3</th>\n",
       "      <td>4</td>\n",
       "      <td>21</td>\n",
       "      <td>1</td>\n",
       "      <td>89</td>\n",
       "      <td>66</td>\n",
       "      <td>23</td>\n",
       "      <td>94</td>\n",
       "      <td>28.1</td>\n",
       "      <td>0.167</td>\n",
       "      <td>0</td>\n",
       "    </tr>\n",
       "    <tr>\n",
       "      <th>4</th>\n",
       "      <td>5</td>\n",
       "      <td>33</td>\n",
       "      <td>0</td>\n",
       "      <td>137</td>\n",
       "      <td>40</td>\n",
       "      <td>35</td>\n",
       "      <td>168</td>\n",
       "      <td>43.1</td>\n",
       "      <td>2.288</td>\n",
       "      <td>1</td>\n",
       "    </tr>\n",
       "  </tbody>\n",
       "</table>\n",
       "</div>"
      ],
      "text/plain": [
       "   Id  Age  Pregnancies  Glucose  BloodPressure  SkinThickness  Insulin   BMI  \\\n",
       "0   1   50            6      148             72             35        0  33.6   \n",
       "1   2   31            1       85             66             29        0  26.6   \n",
       "2   3   32            8      183             64              0        0  23.3   \n",
       "3   4   21            1       89             66             23       94  28.1   \n",
       "4   5   33            0      137             40             35      168  43.1   \n",
       "\n",
       "   DiabetesPedigreeFunction  Outcome  \n",
       "0                     0.627        1  \n",
       "1                     0.351        0  \n",
       "2                     0.672        1  \n",
       "3                     0.167        0  \n",
       "4                     2.288        1  "
      ]
     },
     "execution_count": 49,
     "metadata": {},
     "output_type": "execute_result"
    }
   ],
   "source": [
    "#Reorganize Data Frame to move age next to ID number\n",
    "data_set_2_df = data_set_df[[\"Id\", \"Age\", 'Pregnancies', 'Glucose', 'BloodPressure', 'SkinThickness',\n",
    "       'Insulin', 'BMI', 'DiabetesPedigreeFunction', 'Outcome']]\n",
    "data_set_2_df.head()"
   ]
  },
  {
   "cell_type": "code",
   "execution_count": 50,
   "id": "0a4ff874",
   "metadata": {},
   "outputs": [
    {
     "data": {
      "text/plain": [
       "Id                          2768\n",
       "Age                         2768\n",
       "Pregnancies                 2768\n",
       "Glucose                     2768\n",
       "BloodPressure               2768\n",
       "SkinThickness               2768\n",
       "Insulin                     2768\n",
       "BMI                         2768\n",
       "DiabetesPedigreeFunction    2768\n",
       "Outcome                     2768\n",
       "dtype: int64"
      ]
     },
     "execution_count": 50,
     "metadata": {},
     "output_type": "execute_result"
    }
   ],
   "source": [
    "#Check for incomplete rows\n",
    "data_set_2_df.count()"
   ]
  },
  {
   "cell_type": "code",
   "execution_count": 51,
   "id": "92d5d1a2",
   "metadata": {},
   "outputs": [
    {
     "data": {
      "text/plain": [
       "Id                            int64\n",
       "Age                           int64\n",
       "Pregnancies                   int64\n",
       "Glucose                       int64\n",
       "BloodPressure                 int64\n",
       "SkinThickness                 int64\n",
       "Insulin                       int64\n",
       "BMI                         float64\n",
       "DiabetesPedigreeFunction    float64\n",
       "Outcome                       int64\n",
       "dtype: object"
      ]
     },
     "execution_count": 51,
     "metadata": {},
     "output_type": "execute_result"
    }
   ],
   "source": [
    "#Check Data Types\n",
    "data_set_2_df.dtypes"
   ]
  },
  {
   "cell_type": "code",
   "execution_count": 52,
   "id": "8dece44b",
   "metadata": {},
   "outputs": [
    {
     "data": {
      "text/html": [
       "<div>\n",
       "<style scoped>\n",
       "    .dataframe tbody tr th:only-of-type {\n",
       "        vertical-align: middle;\n",
       "    }\n",
       "\n",
       "    .dataframe tbody tr th {\n",
       "        vertical-align: top;\n",
       "    }\n",
       "\n",
       "    .dataframe thead th {\n",
       "        text-align: right;\n",
       "    }\n",
       "</style>\n",
       "<table border=\"1\" class=\"dataframe\">\n",
       "  <thead>\n",
       "    <tr style=\"text-align: right;\">\n",
       "      <th></th>\n",
       "      <th>Id</th>\n",
       "      <th>Age</th>\n",
       "      <th>Pregnancies</th>\n",
       "      <th>Glucose</th>\n",
       "      <th>BloodPressure</th>\n",
       "      <th>SkinThickness</th>\n",
       "      <th>Insulin</th>\n",
       "      <th>BMI</th>\n",
       "      <th>DiabetesPedigreeFunction</th>\n",
       "      <th>Outcome</th>\n",
       "    </tr>\n",
       "  </thead>\n",
       "  <tbody>\n",
       "    <tr>\n",
       "      <th>count</th>\n",
       "      <td>2768.000000</td>\n",
       "      <td>2768.000000</td>\n",
       "      <td>2768.000000</td>\n",
       "      <td>2768.000000</td>\n",
       "      <td>2768.000000</td>\n",
       "      <td>2768.000000</td>\n",
       "      <td>2768.000000</td>\n",
       "      <td>2768.000000</td>\n",
       "      <td>2768.000000</td>\n",
       "      <td>2768.000000</td>\n",
       "    </tr>\n",
       "    <tr>\n",
       "      <th>mean</th>\n",
       "      <td>1384.500000</td>\n",
       "      <td>33.132225</td>\n",
       "      <td>3.742775</td>\n",
       "      <td>121.102601</td>\n",
       "      <td>69.134393</td>\n",
       "      <td>20.824422</td>\n",
       "      <td>80.127890</td>\n",
       "      <td>32.137392</td>\n",
       "      <td>0.471193</td>\n",
       "      <td>0.343931</td>\n",
       "    </tr>\n",
       "    <tr>\n",
       "      <th>std</th>\n",
       "      <td>799.197097</td>\n",
       "      <td>11.777230</td>\n",
       "      <td>3.323801</td>\n",
       "      <td>32.036508</td>\n",
       "      <td>19.231438</td>\n",
       "      <td>16.059596</td>\n",
       "      <td>112.301933</td>\n",
       "      <td>8.076127</td>\n",
       "      <td>0.325669</td>\n",
       "      <td>0.475104</td>\n",
       "    </tr>\n",
       "    <tr>\n",
       "      <th>min</th>\n",
       "      <td>1.000000</td>\n",
       "      <td>21.000000</td>\n",
       "      <td>0.000000</td>\n",
       "      <td>0.000000</td>\n",
       "      <td>0.000000</td>\n",
       "      <td>0.000000</td>\n",
       "      <td>0.000000</td>\n",
       "      <td>0.000000</td>\n",
       "      <td>0.078000</td>\n",
       "      <td>0.000000</td>\n",
       "    </tr>\n",
       "    <tr>\n",
       "      <th>25%</th>\n",
       "      <td>692.750000</td>\n",
       "      <td>24.000000</td>\n",
       "      <td>1.000000</td>\n",
       "      <td>99.000000</td>\n",
       "      <td>62.000000</td>\n",
       "      <td>0.000000</td>\n",
       "      <td>0.000000</td>\n",
       "      <td>27.300000</td>\n",
       "      <td>0.244000</td>\n",
       "      <td>0.000000</td>\n",
       "    </tr>\n",
       "    <tr>\n",
       "      <th>50%</th>\n",
       "      <td>1384.500000</td>\n",
       "      <td>29.000000</td>\n",
       "      <td>3.000000</td>\n",
       "      <td>117.000000</td>\n",
       "      <td>72.000000</td>\n",
       "      <td>23.000000</td>\n",
       "      <td>37.000000</td>\n",
       "      <td>32.200000</td>\n",
       "      <td>0.375000</td>\n",
       "      <td>0.000000</td>\n",
       "    </tr>\n",
       "    <tr>\n",
       "      <th>75%</th>\n",
       "      <td>2076.250000</td>\n",
       "      <td>40.000000</td>\n",
       "      <td>6.000000</td>\n",
       "      <td>141.000000</td>\n",
       "      <td>80.000000</td>\n",
       "      <td>32.000000</td>\n",
       "      <td>130.000000</td>\n",
       "      <td>36.625000</td>\n",
       "      <td>0.624000</td>\n",
       "      <td>1.000000</td>\n",
       "    </tr>\n",
       "    <tr>\n",
       "      <th>max</th>\n",
       "      <td>2768.000000</td>\n",
       "      <td>81.000000</td>\n",
       "      <td>17.000000</td>\n",
       "      <td>199.000000</td>\n",
       "      <td>122.000000</td>\n",
       "      <td>110.000000</td>\n",
       "      <td>846.000000</td>\n",
       "      <td>80.600000</td>\n",
       "      <td>2.420000</td>\n",
       "      <td>1.000000</td>\n",
       "    </tr>\n",
       "  </tbody>\n",
       "</table>\n",
       "</div>"
      ],
      "text/plain": [
       "                Id          Age  Pregnancies      Glucose  BloodPressure  \\\n",
       "count  2768.000000  2768.000000  2768.000000  2768.000000    2768.000000   \n",
       "mean   1384.500000    33.132225     3.742775   121.102601      69.134393   \n",
       "std     799.197097    11.777230     3.323801    32.036508      19.231438   \n",
       "min       1.000000    21.000000     0.000000     0.000000       0.000000   \n",
       "25%     692.750000    24.000000     1.000000    99.000000      62.000000   \n",
       "50%    1384.500000    29.000000     3.000000   117.000000      72.000000   \n",
       "75%    2076.250000    40.000000     6.000000   141.000000      80.000000   \n",
       "max    2768.000000    81.000000    17.000000   199.000000     122.000000   \n",
       "\n",
       "       SkinThickness      Insulin          BMI  DiabetesPedigreeFunction  \\\n",
       "count    2768.000000  2768.000000  2768.000000               2768.000000   \n",
       "mean       20.824422    80.127890    32.137392                  0.471193   \n",
       "std        16.059596   112.301933     8.076127                  0.325669   \n",
       "min         0.000000     0.000000     0.000000                  0.078000   \n",
       "25%         0.000000     0.000000    27.300000                  0.244000   \n",
       "50%        23.000000    37.000000    32.200000                  0.375000   \n",
       "75%        32.000000   130.000000    36.625000                  0.624000   \n",
       "max       110.000000   846.000000    80.600000                  2.420000   \n",
       "\n",
       "           Outcome  \n",
       "count  2768.000000  \n",
       "mean      0.343931  \n",
       "std       0.475104  \n",
       "min       0.000000  \n",
       "25%       0.000000  \n",
       "50%       0.000000  \n",
       "75%       1.000000  \n",
       "max       1.000000  "
      ]
     },
     "execution_count": 52,
     "metadata": {},
     "output_type": "execute_result"
    }
   ],
   "source": [
    "#Display statistical data\n",
    "data_set_2_df.describe()"
   ]
  },
  {
   "cell_type": "code",
   "execution_count": 53,
   "id": "97363ccd",
   "metadata": {},
   "outputs": [
    {
     "data": {
      "text/html": [
       "<div>\n",
       "<style scoped>\n",
       "    .dataframe tbody tr th:only-of-type {\n",
       "        vertical-align: middle;\n",
       "    }\n",
       "\n",
       "    .dataframe tbody tr th {\n",
       "        vertical-align: top;\n",
       "    }\n",
       "\n",
       "    .dataframe thead th {\n",
       "        text-align: right;\n",
       "    }\n",
       "</style>\n",
       "<table border=\"1\" class=\"dataframe\">\n",
       "  <thead>\n",
       "    <tr style=\"text-align: right;\">\n",
       "      <th></th>\n",
       "      <th>Age</th>\n",
       "      <th>Pregnancies</th>\n",
       "      <th>Glucose</th>\n",
       "      <th>BloodPressure</th>\n",
       "      <th>SkinThickness</th>\n",
       "      <th>Insulin</th>\n",
       "      <th>BMI</th>\n",
       "      <th>DiabetesPedigreeFunction</th>\n",
       "      <th>Outcome</th>\n",
       "    </tr>\n",
       "    <tr>\n",
       "      <th>Id</th>\n",
       "      <th></th>\n",
       "      <th></th>\n",
       "      <th></th>\n",
       "      <th></th>\n",
       "      <th></th>\n",
       "      <th></th>\n",
       "      <th></th>\n",
       "      <th></th>\n",
       "      <th></th>\n",
       "    </tr>\n",
       "  </thead>\n",
       "  <tbody>\n",
       "    <tr>\n",
       "      <th>1</th>\n",
       "      <td>50</td>\n",
       "      <td>6</td>\n",
       "      <td>148</td>\n",
       "      <td>72</td>\n",
       "      <td>35</td>\n",
       "      <td>0</td>\n",
       "      <td>33.6</td>\n",
       "      <td>0.627</td>\n",
       "      <td>1</td>\n",
       "    </tr>\n",
       "    <tr>\n",
       "      <th>2</th>\n",
       "      <td>31</td>\n",
       "      <td>1</td>\n",
       "      <td>85</td>\n",
       "      <td>66</td>\n",
       "      <td>29</td>\n",
       "      <td>0</td>\n",
       "      <td>26.6</td>\n",
       "      <td>0.351</td>\n",
       "      <td>0</td>\n",
       "    </tr>\n",
       "    <tr>\n",
       "      <th>3</th>\n",
       "      <td>32</td>\n",
       "      <td>8</td>\n",
       "      <td>183</td>\n",
       "      <td>64</td>\n",
       "      <td>0</td>\n",
       "      <td>0</td>\n",
       "      <td>23.3</td>\n",
       "      <td>0.672</td>\n",
       "      <td>1</td>\n",
       "    </tr>\n",
       "    <tr>\n",
       "      <th>4</th>\n",
       "      <td>21</td>\n",
       "      <td>1</td>\n",
       "      <td>89</td>\n",
       "      <td>66</td>\n",
       "      <td>23</td>\n",
       "      <td>94</td>\n",
       "      <td>28.1</td>\n",
       "      <td>0.167</td>\n",
       "      <td>0</td>\n",
       "    </tr>\n",
       "    <tr>\n",
       "      <th>5</th>\n",
       "      <td>33</td>\n",
       "      <td>0</td>\n",
       "      <td>137</td>\n",
       "      <td>40</td>\n",
       "      <td>35</td>\n",
       "      <td>168</td>\n",
       "      <td>43.1</td>\n",
       "      <td>2.288</td>\n",
       "      <td>1</td>\n",
       "    </tr>\n",
       "    <tr>\n",
       "      <th>...</th>\n",
       "      <td>...</td>\n",
       "      <td>...</td>\n",
       "      <td>...</td>\n",
       "      <td>...</td>\n",
       "      <td>...</td>\n",
       "      <td>...</td>\n",
       "      <td>...</td>\n",
       "      <td>...</td>\n",
       "      <td>...</td>\n",
       "    </tr>\n",
       "    <tr>\n",
       "      <th>2764</th>\n",
       "      <td>33</td>\n",
       "      <td>2</td>\n",
       "      <td>75</td>\n",
       "      <td>64</td>\n",
       "      <td>24</td>\n",
       "      <td>55</td>\n",
       "      <td>29.7</td>\n",
       "      <td>0.370</td>\n",
       "      <td>0</td>\n",
       "    </tr>\n",
       "    <tr>\n",
       "      <th>2765</th>\n",
       "      <td>36</td>\n",
       "      <td>8</td>\n",
       "      <td>179</td>\n",
       "      <td>72</td>\n",
       "      <td>42</td>\n",
       "      <td>130</td>\n",
       "      <td>32.7</td>\n",
       "      <td>0.719</td>\n",
       "      <td>1</td>\n",
       "    </tr>\n",
       "    <tr>\n",
       "      <th>2766</th>\n",
       "      <td>42</td>\n",
       "      <td>6</td>\n",
       "      <td>85</td>\n",
       "      <td>78</td>\n",
       "      <td>0</td>\n",
       "      <td>0</td>\n",
       "      <td>31.2</td>\n",
       "      <td>0.382</td>\n",
       "      <td>0</td>\n",
       "    </tr>\n",
       "    <tr>\n",
       "      <th>2767</th>\n",
       "      <td>26</td>\n",
       "      <td>0</td>\n",
       "      <td>129</td>\n",
       "      <td>110</td>\n",
       "      <td>46</td>\n",
       "      <td>130</td>\n",
       "      <td>67.1</td>\n",
       "      <td>0.319</td>\n",
       "      <td>1</td>\n",
       "    </tr>\n",
       "    <tr>\n",
       "      <th>2768</th>\n",
       "      <td>25</td>\n",
       "      <td>2</td>\n",
       "      <td>81</td>\n",
       "      <td>72</td>\n",
       "      <td>15</td>\n",
       "      <td>76</td>\n",
       "      <td>30.1</td>\n",
       "      <td>0.547</td>\n",
       "      <td>0</td>\n",
       "    </tr>\n",
       "  </tbody>\n",
       "</table>\n",
       "<p>2768 rows × 9 columns</p>\n",
       "</div>"
      ],
      "text/plain": [
       "      Age  Pregnancies  Glucose  BloodPressure  SkinThickness  Insulin   BMI  \\\n",
       "Id                                                                             \n",
       "1      50            6      148             72             35        0  33.6   \n",
       "2      31            1       85             66             29        0  26.6   \n",
       "3      32            8      183             64              0        0  23.3   \n",
       "4      21            1       89             66             23       94  28.1   \n",
       "5      33            0      137             40             35      168  43.1   \n",
       "...   ...          ...      ...            ...            ...      ...   ...   \n",
       "2764   33            2       75             64             24       55  29.7   \n",
       "2765   36            8      179             72             42      130  32.7   \n",
       "2766   42            6       85             78              0        0  31.2   \n",
       "2767   26            0      129            110             46      130  67.1   \n",
       "2768   25            2       81             72             15       76  30.1   \n",
       "\n",
       "      DiabetesPedigreeFunction  Outcome  \n",
       "Id                                       \n",
       "1                        0.627        1  \n",
       "2                        0.351        0  \n",
       "3                        0.672        1  \n",
       "4                        0.167        0  \n",
       "5                        2.288        1  \n",
       "...                        ...      ...  \n",
       "2764                     0.370        0  \n",
       "2765                     0.719        1  \n",
       "2766                     0.382        0  \n",
       "2767                     0.319        1  \n",
       "2768                     0.547        0  \n",
       "\n",
       "[2768 rows x 9 columns]"
      ]
     },
     "execution_count": 53,
     "metadata": {},
     "output_type": "execute_result"
    }
   ],
   "source": [
    "#Reindex with ID number\n",
    "data_set_final_df = data_set_2_df.set_index(\"Id\")\n",
    "data_set_final_df\n"
   ]
  },
  {
   "cell_type": "markdown",
   "id": "1a6e87ed",
   "metadata": {},
   "source": [
    "# Age and Outcome Analysis"
   ]
  },
  {
   "cell_type": "code",
   "execution_count": 54,
   "id": "46c777fb",
   "metadata": {},
   "outputs": [
    {
     "name": "stdout",
     "output_type": "stream",
     "text": [
      "The minimum age is 21 and the maximum age is 81\n"
     ]
    }
   ],
   "source": [
    "#Find the max and min age\n",
    "max_age = data_set_final_df[\"Age\"].max()\n",
    "min_age = data_set_final_df[\"Age\"].min()\n",
    "\n",
    "print(f\"The minimum age is {min_age} and the maximum age is {max_age}\")"
   ]
  },
  {
   "cell_type": "code",
   "execution_count": 55,
   "id": "40414805",
   "metadata": {},
   "outputs": [
    {
     "data": {
      "text/plain": [
       "Age\n",
       "22    264\n",
       "21    229\n",
       "25    182\n",
       "24    168\n",
       "23    141\n",
       "28    133\n",
       "26    117\n",
       "27    113\n",
       "29     99\n",
       "31     82\n",
       "30     77\n",
       "41     73\n",
       "37     67\n",
       "42     66\n",
       "36     62\n",
       "38     61\n",
       "33     60\n",
       "45     57\n",
       "46     48\n",
       "34     48\n",
       "39     48\n",
       "40     48\n",
       "43     47\n",
       "32     47\n",
       "35     37\n",
       "50     29\n",
       "44     28\n",
       "58     28\n",
       "52     27\n",
       "47     23\n",
       "51     21\n",
       "49     19\n",
       "48     19\n",
       "54     18\n",
       "55     18\n",
       "63     17\n",
       "66     16\n",
       "53     15\n",
       "62     14\n",
       "67     13\n",
       "57     12\n",
       "60     12\n",
       "65     11\n",
       "56     10\n",
       "59      9\n",
       "69      8\n",
       "61      7\n",
       "72      4\n",
       "81      4\n",
       "64      4\n",
       "70      4\n",
       "68      4\n",
       "Name: count, dtype: int64"
      ]
     },
     "execution_count": 55,
     "metadata": {},
     "output_type": "execute_result"
    }
   ],
   "source": [
    "#Find the age distribution of the women in the survey\n",
    "data_set_final_df[\"Age\"].value_counts()"
   ]
  },
  {
   "cell_type": "code",
   "execution_count": 56,
   "id": "f16d58f9",
   "metadata": {},
   "outputs": [],
   "source": [
    "#Create Bins for the distribution\n",
    "bins = [21, 30, 40, 50, 60, 70, 80, 90]\n",
    "\n",
    "#Names for bins\n",
    "bin_names = [\"21-30\", \"31-40\", \"41-50\", \"51-60\", \"61-70\", \"71-80\", \"81-90\"]\n"
   ]
  },
  {
   "cell_type": "code",
   "execution_count": 57,
   "id": "f8d6e233",
   "metadata": {},
   "outputs": [
    {
     "data": {
      "text/html": [
       "<div>\n",
       "<style scoped>\n",
       "    .dataframe tbody tr th:only-of-type {\n",
       "        vertical-align: middle;\n",
       "    }\n",
       "\n",
       "    .dataframe tbody tr th {\n",
       "        vertical-align: top;\n",
       "    }\n",
       "\n",
       "    .dataframe thead th {\n",
       "        text-align: right;\n",
       "    }\n",
       "</style>\n",
       "<table border=\"1\" class=\"dataframe\">\n",
       "  <thead>\n",
       "    <tr style=\"text-align: right;\">\n",
       "      <th></th>\n",
       "      <th>Age</th>\n",
       "      <th>Pregnancies</th>\n",
       "      <th>Glucose</th>\n",
       "      <th>BloodPressure</th>\n",
       "      <th>SkinThickness</th>\n",
       "      <th>Insulin</th>\n",
       "      <th>BMI</th>\n",
       "      <th>DiabetesPedigreeFunction</th>\n",
       "      <th>Outcome</th>\n",
       "      <th>Age Groups</th>\n",
       "    </tr>\n",
       "    <tr>\n",
       "      <th>Id</th>\n",
       "      <th></th>\n",
       "      <th></th>\n",
       "      <th></th>\n",
       "      <th></th>\n",
       "      <th></th>\n",
       "      <th></th>\n",
       "      <th></th>\n",
       "      <th></th>\n",
       "      <th></th>\n",
       "      <th></th>\n",
       "    </tr>\n",
       "  </thead>\n",
       "  <tbody>\n",
       "    <tr>\n",
       "      <th>1</th>\n",
       "      <td>50</td>\n",
       "      <td>6</td>\n",
       "      <td>148</td>\n",
       "      <td>72</td>\n",
       "      <td>35</td>\n",
       "      <td>0</td>\n",
       "      <td>33.6</td>\n",
       "      <td>0.627</td>\n",
       "      <td>1</td>\n",
       "      <td>41-50</td>\n",
       "    </tr>\n",
       "    <tr>\n",
       "      <th>2</th>\n",
       "      <td>31</td>\n",
       "      <td>1</td>\n",
       "      <td>85</td>\n",
       "      <td>66</td>\n",
       "      <td>29</td>\n",
       "      <td>0</td>\n",
       "      <td>26.6</td>\n",
       "      <td>0.351</td>\n",
       "      <td>0</td>\n",
       "      <td>31-40</td>\n",
       "    </tr>\n",
       "    <tr>\n",
       "      <th>3</th>\n",
       "      <td>32</td>\n",
       "      <td>8</td>\n",
       "      <td>183</td>\n",
       "      <td>64</td>\n",
       "      <td>0</td>\n",
       "      <td>0</td>\n",
       "      <td>23.3</td>\n",
       "      <td>0.672</td>\n",
       "      <td>1</td>\n",
       "      <td>31-40</td>\n",
       "    </tr>\n",
       "    <tr>\n",
       "      <th>4</th>\n",
       "      <td>21</td>\n",
       "      <td>1</td>\n",
       "      <td>89</td>\n",
       "      <td>66</td>\n",
       "      <td>23</td>\n",
       "      <td>94</td>\n",
       "      <td>28.1</td>\n",
       "      <td>0.167</td>\n",
       "      <td>0</td>\n",
       "      <td>21-30</td>\n",
       "    </tr>\n",
       "    <tr>\n",
       "      <th>5</th>\n",
       "      <td>33</td>\n",
       "      <td>0</td>\n",
       "      <td>137</td>\n",
       "      <td>40</td>\n",
       "      <td>35</td>\n",
       "      <td>168</td>\n",
       "      <td>43.1</td>\n",
       "      <td>2.288</td>\n",
       "      <td>1</td>\n",
       "      <td>31-40</td>\n",
       "    </tr>\n",
       "    <tr>\n",
       "      <th>...</th>\n",
       "      <td>...</td>\n",
       "      <td>...</td>\n",
       "      <td>...</td>\n",
       "      <td>...</td>\n",
       "      <td>...</td>\n",
       "      <td>...</td>\n",
       "      <td>...</td>\n",
       "      <td>...</td>\n",
       "      <td>...</td>\n",
       "      <td>...</td>\n",
       "    </tr>\n",
       "    <tr>\n",
       "      <th>2764</th>\n",
       "      <td>33</td>\n",
       "      <td>2</td>\n",
       "      <td>75</td>\n",
       "      <td>64</td>\n",
       "      <td>24</td>\n",
       "      <td>55</td>\n",
       "      <td>29.7</td>\n",
       "      <td>0.370</td>\n",
       "      <td>0</td>\n",
       "      <td>31-40</td>\n",
       "    </tr>\n",
       "    <tr>\n",
       "      <th>2765</th>\n",
       "      <td>36</td>\n",
       "      <td>8</td>\n",
       "      <td>179</td>\n",
       "      <td>72</td>\n",
       "      <td>42</td>\n",
       "      <td>130</td>\n",
       "      <td>32.7</td>\n",
       "      <td>0.719</td>\n",
       "      <td>1</td>\n",
       "      <td>31-40</td>\n",
       "    </tr>\n",
       "    <tr>\n",
       "      <th>2766</th>\n",
       "      <td>42</td>\n",
       "      <td>6</td>\n",
       "      <td>85</td>\n",
       "      <td>78</td>\n",
       "      <td>0</td>\n",
       "      <td>0</td>\n",
       "      <td>31.2</td>\n",
       "      <td>0.382</td>\n",
       "      <td>0</td>\n",
       "      <td>41-50</td>\n",
       "    </tr>\n",
       "    <tr>\n",
       "      <th>2767</th>\n",
       "      <td>26</td>\n",
       "      <td>0</td>\n",
       "      <td>129</td>\n",
       "      <td>110</td>\n",
       "      <td>46</td>\n",
       "      <td>130</td>\n",
       "      <td>67.1</td>\n",
       "      <td>0.319</td>\n",
       "      <td>1</td>\n",
       "      <td>21-30</td>\n",
       "    </tr>\n",
       "    <tr>\n",
       "      <th>2768</th>\n",
       "      <td>25</td>\n",
       "      <td>2</td>\n",
       "      <td>81</td>\n",
       "      <td>72</td>\n",
       "      <td>15</td>\n",
       "      <td>76</td>\n",
       "      <td>30.1</td>\n",
       "      <td>0.547</td>\n",
       "      <td>0</td>\n",
       "      <td>21-30</td>\n",
       "    </tr>\n",
       "  </tbody>\n",
       "</table>\n",
       "<p>2768 rows × 10 columns</p>\n",
       "</div>"
      ],
      "text/plain": [
       "      Age  Pregnancies  Glucose  BloodPressure  SkinThickness  Insulin   BMI  \\\n",
       "Id                                                                             \n",
       "1      50            6      148             72             35        0  33.6   \n",
       "2      31            1       85             66             29        0  26.6   \n",
       "3      32            8      183             64              0        0  23.3   \n",
       "4      21            1       89             66             23       94  28.1   \n",
       "5      33            0      137             40             35      168  43.1   \n",
       "...   ...          ...      ...            ...            ...      ...   ...   \n",
       "2764   33            2       75             64             24       55  29.7   \n",
       "2765   36            8      179             72             42      130  32.7   \n",
       "2766   42            6       85             78              0        0  31.2   \n",
       "2767   26            0      129            110             46      130  67.1   \n",
       "2768   25            2       81             72             15       76  30.1   \n",
       "\n",
       "      DiabetesPedigreeFunction  Outcome Age Groups  \n",
       "Id                                                  \n",
       "1                        0.627        1      41-50  \n",
       "2                        0.351        0      31-40  \n",
       "3                        0.672        1      31-40  \n",
       "4                        0.167        0      21-30  \n",
       "5                        2.288        1      31-40  \n",
       "...                        ...      ...        ...  \n",
       "2764                     0.370        0      31-40  \n",
       "2765                     0.719        1      31-40  \n",
       "2766                     0.382        0      41-50  \n",
       "2767                     0.319        1      21-30  \n",
       "2768                     0.547        0      21-30  \n",
       "\n",
       "[2768 rows x 10 columns]"
      ]
     },
     "execution_count": 57,
     "metadata": {},
     "output_type": "execute_result"
    }
   ],
   "source": [
    "#Place the data into bins\n",
    "data_set_final_df[\"Age Groups\"] = pd.cut(data_set_final_df[\"Age\"],bins,\n",
    "                                        labels = bin_names,\n",
    "                                        include_lowest = True)\n",
    "data_set_final_df"
   ]
  },
  {
   "cell_type": "code",
   "execution_count": 58,
   "id": "8acdc369",
   "metadata": {},
   "outputs": [
    {
     "data": {
      "text/html": [
       "<div>\n",
       "<style scoped>\n",
       "    .dataframe tbody tr th:only-of-type {\n",
       "        vertical-align: middle;\n",
       "    }\n",
       "\n",
       "    .dataframe tbody tr th {\n",
       "        vertical-align: top;\n",
       "    }\n",
       "\n",
       "    .dataframe thead th {\n",
       "        text-align: right;\n",
       "    }\n",
       "</style>\n",
       "<table border=\"1\" class=\"dataframe\">\n",
       "  <thead>\n",
       "    <tr style=\"text-align: right;\">\n",
       "      <th></th>\n",
       "      <th>Age</th>\n",
       "      <th>Age Groups</th>\n",
       "      <th>Pregnancies</th>\n",
       "      <th>Glucose</th>\n",
       "      <th>BloodPressure</th>\n",
       "      <th>SkinThickness</th>\n",
       "      <th>Insulin</th>\n",
       "      <th>BMI</th>\n",
       "      <th>DiabetesPedigreeFunction</th>\n",
       "      <th>Outcome</th>\n",
       "    </tr>\n",
       "    <tr>\n",
       "      <th>Id</th>\n",
       "      <th></th>\n",
       "      <th></th>\n",
       "      <th></th>\n",
       "      <th></th>\n",
       "      <th></th>\n",
       "      <th></th>\n",
       "      <th></th>\n",
       "      <th></th>\n",
       "      <th></th>\n",
       "      <th></th>\n",
       "    </tr>\n",
       "  </thead>\n",
       "  <tbody>\n",
       "    <tr>\n",
       "      <th>1</th>\n",
       "      <td>50</td>\n",
       "      <td>41-50</td>\n",
       "      <td>6</td>\n",
       "      <td>148</td>\n",
       "      <td>72</td>\n",
       "      <td>35</td>\n",
       "      <td>0</td>\n",
       "      <td>33.6</td>\n",
       "      <td>0.627</td>\n",
       "      <td>1</td>\n",
       "    </tr>\n",
       "    <tr>\n",
       "      <th>2</th>\n",
       "      <td>31</td>\n",
       "      <td>31-40</td>\n",
       "      <td>1</td>\n",
       "      <td>85</td>\n",
       "      <td>66</td>\n",
       "      <td>29</td>\n",
       "      <td>0</td>\n",
       "      <td>26.6</td>\n",
       "      <td>0.351</td>\n",
       "      <td>0</td>\n",
       "    </tr>\n",
       "    <tr>\n",
       "      <th>3</th>\n",
       "      <td>32</td>\n",
       "      <td>31-40</td>\n",
       "      <td>8</td>\n",
       "      <td>183</td>\n",
       "      <td>64</td>\n",
       "      <td>0</td>\n",
       "      <td>0</td>\n",
       "      <td>23.3</td>\n",
       "      <td>0.672</td>\n",
       "      <td>1</td>\n",
       "    </tr>\n",
       "    <tr>\n",
       "      <th>4</th>\n",
       "      <td>21</td>\n",
       "      <td>21-30</td>\n",
       "      <td>1</td>\n",
       "      <td>89</td>\n",
       "      <td>66</td>\n",
       "      <td>23</td>\n",
       "      <td>94</td>\n",
       "      <td>28.1</td>\n",
       "      <td>0.167</td>\n",
       "      <td>0</td>\n",
       "    </tr>\n",
       "    <tr>\n",
       "      <th>5</th>\n",
       "      <td>33</td>\n",
       "      <td>31-40</td>\n",
       "      <td>0</td>\n",
       "      <td>137</td>\n",
       "      <td>40</td>\n",
       "      <td>35</td>\n",
       "      <td>168</td>\n",
       "      <td>43.1</td>\n",
       "      <td>2.288</td>\n",
       "      <td>1</td>\n",
       "    </tr>\n",
       "  </tbody>\n",
       "</table>\n",
       "</div>"
      ],
      "text/plain": [
       "    Age Age Groups  Pregnancies  Glucose  BloodPressure  SkinThickness  \\\n",
       "Id                                                                       \n",
       "1    50      41-50            6      148             72             35   \n",
       "2    31      31-40            1       85             66             29   \n",
       "3    32      31-40            8      183             64              0   \n",
       "4    21      21-30            1       89             66             23   \n",
       "5    33      31-40            0      137             40             35   \n",
       "\n",
       "    Insulin   BMI  DiabetesPedigreeFunction  Outcome  \n",
       "Id                                                    \n",
       "1         0  33.6                     0.627        1  \n",
       "2         0  26.6                     0.351        0  \n",
       "3         0  23.3                     0.672        1  \n",
       "4        94  28.1                     0.167        0  \n",
       "5       168  43.1                     2.288        1  "
      ]
     },
     "execution_count": 58,
     "metadata": {},
     "output_type": "execute_result"
    }
   ],
   "source": [
    "#Split data into bins to find age group distribution\n",
    "data_set_bins_reordered_df = data_set_final_df[[\"Age\", \"Age Groups\",'Pregnancies', 'Glucose', 'BloodPressure', 'SkinThickness',\n",
    "       'Insulin', 'BMI', 'DiabetesPedigreeFunction', 'Outcome']]\n",
    "\n",
    "data_set_bins_reordered_df.head()"
   ]
  },
  {
   "cell_type": "code",
   "execution_count": 59,
   "id": "c23d9227",
   "metadata": {},
   "outputs": [
    {
     "data": {
      "text/plain": [
       "Age Groups\n",
       "21-30    1523\n",
       "31-40     560\n",
       "41-50     409\n",
       "51-60     170\n",
       "61-70      98\n",
       "71-80       4\n",
       "81-90       4\n",
       "Name: count, dtype: int64"
      ]
     },
     "execution_count": 59,
     "metadata": {},
     "output_type": "execute_result"
    }
   ],
   "source": [
    "#Count Data in bins\n",
    "age_group_counts = data_set_bins_reordered_df[\"Age Groups\"].value_counts()\n",
    "age_group_counts"
   ]
  },
  {
   "cell_type": "code",
   "execution_count": 60,
   "id": "74ec37cd",
   "metadata": {},
   "outputs": [
    {
     "data": {
      "image/png": "[encoded data removed]",
      "text/plain": [
       "<Figure size 640x480 with 1 Axes>"
      ]
     },
     "metadata": {},
     "output_type": "display_data"
    }
   ],
   "source": [
    "#Bar Graph\n",
    "age_group_counts.plot(kind=\"bar\", width=0.75, color = \"purple\")\n",
    "\n",
    "#Labels\n",
    "plt.title(\"Age Distribution of Participants\")\n",
    "plt.xlabel(\"Age Groups\")\n",
    "plt.ylabel(\"Number of Participants\")\n",
    "\n",
    "plt.savefig(\"Images/Fig1.png\")\n",
    "\n",
    "plt.show()"
   ]
  },
  {
   "cell_type": "code",
   "execution_count": 61,
   "id": "9a82f68b",
   "metadata": {},
   "outputs": [
    {
     "data": {
      "text/plain": [
       "33.13222543352601"
      ]
     },
     "execution_count": 61,
     "metadata": {},
     "output_type": "execute_result"
    }
   ],
   "source": [
    "#Find average age\n",
    "data_set_final_df[\"Age\"].mean()"
   ]
  },
  {
   "cell_type": "code",
   "execution_count": null,
   "id": "a0207508",
   "metadata": {},
   "outputs": [],
   "source": []
  },
  {
   "cell_type": "code",
   "execution_count": 62,
   "id": "6150d146",
   "metadata": {},
   "outputs": [
    {
     "data": {
      "image/png": "[encoded data removed]",
      "text/plain": [
       "<Figure size 640x480 with 1 Axes>"
      ]
     },
     "metadata": {},
     "output_type": "display_data"
    }
   ],
   "source": [
    "#Pie Chart with Diabetes vs not\n",
    "#Count up items per outcome\n",
    "outcomes_counts = data_set_final_df[\"Outcome\"].value_counts()\n",
    "\n",
    "#Define labels\n",
    "labels = [\"Does not have Diabetes\", \"Has Diabetes\"]\n",
    "#Plot\n",
    "outcomes_counts.plot(kind=\"pie\", labels=labels, ylabel = \"Diagnosis\", autopct=\"%1.1f\", title=\"Distribution of Diagnosis\")\n",
    "plt.savefig(\"Images/Fig2.png\")\n",
    "plt.show()"
   ]
  },
  {
   "cell_type": "markdown",
   "id": "77816e63",
   "metadata": {},
   "source": [
    "# Reset Null Values"
   ]
  },
  {
   "cell_type": "code",
   "execution_count": 63,
   "id": "5a44affd",
   "metadata": {},
   "outputs": [
    {
     "data": {
      "text/html": [
       "<div>\n",
       "<style scoped>\n",
       "    .dataframe tbody tr th:only-of-type {\n",
       "        vertical-align: middle;\n",
       "    }\n",
       "\n",
       "    .dataframe tbody tr th {\n",
       "        vertical-align: top;\n",
       "    }\n",
       "\n",
       "    .dataframe thead th {\n",
       "        text-align: right;\n",
       "    }\n",
       "</style>\n",
       "<table border=\"1\" class=\"dataframe\">\n",
       "  <thead>\n",
       "    <tr style=\"text-align: right;\">\n",
       "      <th></th>\n",
       "      <th>Age</th>\n",
       "      <th>Pregnancies</th>\n",
       "      <th>Glucose</th>\n",
       "      <th>BloodPressure</th>\n",
       "      <th>SkinThickness</th>\n",
       "      <th>Insulin</th>\n",
       "      <th>BMI</th>\n",
       "      <th>DiabetesPedigreeFunction</th>\n",
       "      <th>Outcome</th>\n",
       "      <th>Age Groups</th>\n",
       "    </tr>\n",
       "    <tr>\n",
       "      <th>Id</th>\n",
       "      <th></th>\n",
       "      <th></th>\n",
       "      <th></th>\n",
       "      <th></th>\n",
       "      <th></th>\n",
       "      <th></th>\n",
       "      <th></th>\n",
       "      <th></th>\n",
       "      <th></th>\n",
       "      <th></th>\n",
       "    </tr>\n",
       "  </thead>\n",
       "  <tbody>\n",
       "    <tr>\n",
       "      <th>1</th>\n",
       "      <td>50</td>\n",
       "      <td>6</td>\n",
       "      <td>148.0</td>\n",
       "      <td>72.0</td>\n",
       "      <td>35.0</td>\n",
       "      <td>NaN</td>\n",
       "      <td>33.6</td>\n",
       "      <td>0.627</td>\n",
       "      <td>1</td>\n",
       "      <td>41-50</td>\n",
       "    </tr>\n",
       "    <tr>\n",
       "      <th>2</th>\n",
       "      <td>31</td>\n",
       "      <td>1</td>\n",
       "      <td>85.0</td>\n",
       "      <td>66.0</td>\n",
       "      <td>29.0</td>\n",
       "      <td>NaN</td>\n",
       "      <td>26.6</td>\n",
       "      <td>0.351</td>\n",
       "      <td>0</td>\n",
       "      <td>31-40</td>\n",
       "    </tr>\n",
       "    <tr>\n",
       "      <th>3</th>\n",
       "      <td>32</td>\n",
       "      <td>8</td>\n",
       "      <td>183.0</td>\n",
       "      <td>64.0</td>\n",
       "      <td>NaN</td>\n",
       "      <td>NaN</td>\n",
       "      <td>23.3</td>\n",
       "      <td>0.672</td>\n",
       "      <td>1</td>\n",
       "      <td>31-40</td>\n",
       "    </tr>\n",
       "    <tr>\n",
       "      <th>4</th>\n",
       "      <td>21</td>\n",
       "      <td>1</td>\n",
       "      <td>89.0</td>\n",
       "      <td>66.0</td>\n",
       "      <td>23.0</td>\n",
       "      <td>94.0</td>\n",
       "      <td>28.1</td>\n",
       "      <td>0.167</td>\n",
       "      <td>0</td>\n",
       "      <td>21-30</td>\n",
       "    </tr>\n",
       "    <tr>\n",
       "      <th>5</th>\n",
       "      <td>33</td>\n",
       "      <td>0</td>\n",
       "      <td>137.0</td>\n",
       "      <td>40.0</td>\n",
       "      <td>35.0</td>\n",
       "      <td>168.0</td>\n",
       "      <td>43.1</td>\n",
       "      <td>2.288</td>\n",
       "      <td>1</td>\n",
       "      <td>31-40</td>\n",
       "    </tr>\n",
       "  </tbody>\n",
       "</table>\n",
       "</div>"
      ],
      "text/plain": [
       "    Age  Pregnancies  Glucose  BloodPressure  SkinThickness  Insulin   BMI  \\\n",
       "Id                                                                           \n",
       "1    50            6    148.0           72.0           35.0      NaN  33.6   \n",
       "2    31            1     85.0           66.0           29.0      NaN  26.6   \n",
       "3    32            8    183.0           64.0            NaN      NaN  23.3   \n",
       "4    21            1     89.0           66.0           23.0     94.0  28.1   \n",
       "5    33            0    137.0           40.0           35.0    168.0  43.1   \n",
       "\n",
       "    DiabetesPedigreeFunction  Outcome Age Groups  \n",
       "Id                                                \n",
       "1                      0.627        1      41-50  \n",
       "2                      0.351        0      31-40  \n",
       "3                      0.672        1      31-40  \n",
       "4                      0.167        0      21-30  \n",
       "5                      2.288        1      31-40  "
      ]
     },
     "execution_count": 63,
     "metadata": {},
     "output_type": "execute_result"
    }
   ],
   "source": [
    "relevant_columns = ['Glucose', 'BloodPressure', 'SkinThickness', 'Insulin', 'BMI']\n",
    "data_set_final_df[relevant_columns] = data_set_final_df[relevant_columns].replace(0, np.nan)\n",
    "\n",
    "data_set_final_df.head()"
   ]
  },
  {
   "cell_type": "code",
   "execution_count": null,
   "id": "7a59a262",
   "metadata": {},
   "outputs": [],
   "source": []
  },
  {
   "cell_type": "markdown",
   "id": "fb92677c",
   "metadata": {},
   "source": [
    "# Correlation of Glucose and Insulin"
   ]
  },
  {
   "cell_type": "code",
   "execution_count": 64,
   "id": "f1338f5e",
   "metadata": {},
   "outputs": [
    {
     "data": {
      "text/html": [
       "<div>\n",
       "<style scoped>\n",
       "    .dataframe tbody tr th:only-of-type {\n",
       "        vertical-align: middle;\n",
       "    }\n",
       "\n",
       "    .dataframe tbody tr th {\n",
       "        vertical-align: top;\n",
       "    }\n",
       "\n",
       "    .dataframe thead th {\n",
       "        text-align: right;\n",
       "    }\n",
       "</style>\n",
       "<table border=\"1\" class=\"dataframe\">\n",
       "  <thead>\n",
       "    <tr style=\"text-align: right;\">\n",
       "      <th></th>\n",
       "      <th>Age</th>\n",
       "      <th>Glucose</th>\n",
       "      <th>Insulin</th>\n",
       "    </tr>\n",
       "    <tr>\n",
       "      <th>Id</th>\n",
       "      <th></th>\n",
       "      <th></th>\n",
       "      <th></th>\n",
       "    </tr>\n",
       "  </thead>\n",
       "  <tbody>\n",
       "    <tr>\n",
       "      <th>1</th>\n",
       "      <td>50</td>\n",
       "      <td>148.0</td>\n",
       "      <td>NaN</td>\n",
       "    </tr>\n",
       "    <tr>\n",
       "      <th>2</th>\n",
       "      <td>31</td>\n",
       "      <td>85.0</td>\n",
       "      <td>NaN</td>\n",
       "    </tr>\n",
       "    <tr>\n",
       "      <th>3</th>\n",
       "      <td>32</td>\n",
       "      <td>183.0</td>\n",
       "      <td>NaN</td>\n",
       "    </tr>\n",
       "    <tr>\n",
       "      <th>4</th>\n",
       "      <td>21</td>\n",
       "      <td>89.0</td>\n",
       "      <td>94.0</td>\n",
       "    </tr>\n",
       "    <tr>\n",
       "      <th>5</th>\n",
       "      <td>33</td>\n",
       "      <td>137.0</td>\n",
       "      <td>168.0</td>\n",
       "    </tr>\n",
       "  </tbody>\n",
       "</table>\n",
       "</div>"
      ],
      "text/plain": [
       "    Age  Glucose  Insulin\n",
       "Id                       \n",
       "1    50    148.0      NaN\n",
       "2    31     85.0      NaN\n",
       "3    32    183.0      NaN\n",
       "4    21     89.0     94.0\n",
       "5    33    137.0    168.0"
      ]
     },
     "execution_count": 64,
     "metadata": {},
     "output_type": "execute_result"
    }
   ],
   "source": [
    "#Make new data fram with only necessary information\n",
    "\n",
    "glu_ins_df = data_set_final_df[[\"Age\", \"Glucose\", \"Insulin\"]]\n",
    "glu_ins_df.head()"
   ]
  },
  {
   "cell_type": "code",
   "execution_count": 65,
   "id": "7e9420c1",
   "metadata": {},
   "outputs": [
    {
     "data": {
      "text/plain": [
       "Age        2768\n",
       "Glucose    2750\n",
       "Insulin    1438\n",
       "dtype: int64"
      ]
     },
     "execution_count": 65,
     "metadata": {},
     "output_type": "execute_result"
    }
   ],
   "source": [
    "#Find null values of columns\n",
    "glu_ins_df.count()"
   ]
  },
  {
   "cell_type": "code",
   "execution_count": 66,
   "id": "3ffbbea6",
   "metadata": {},
   "outputs": [],
   "source": [
    "#Drop Rows\n",
    "glu_ins_new_df = glu_ins_df.dropna(how=\"any\")"
   ]
  },
  {
   "cell_type": "code",
   "execution_count": 67,
   "id": "2dedd775",
   "metadata": {},
   "outputs": [
    {
     "data": {
      "text/plain": [
       "Age        1435\n",
       "Glucose    1435\n",
       "Insulin    1435\n",
       "dtype: int64"
      ]
     },
     "execution_count": 67,
     "metadata": {},
     "output_type": "execute_result"
    }
   ],
   "source": [
    "#Verify dropped rows\n",
    "glu_ins_new_df.count()\n"
   ]
  },
  {
   "cell_type": "code",
   "execution_count": 68,
   "id": "537dbf32",
   "metadata": {},
   "outputs": [
    {
     "data": {
      "image/png": "[encoded data removed]",
      "text/plain": [
       "<Figure size 640x480 with 1 Axes>"
      ]
     },
     "metadata": {},
     "output_type": "display_data"
    },
    {
     "name": "stdout",
     "output_type": "stream",
     "text": [
      "0.5663347094761796\n"
     ]
    }
   ],
   "source": [
    "#Create scatter plot comparing Glucose levels and Insulin levels\n",
    "x_values = glu_ins_new_df[\"Glucose\"]\n",
    "y_values = glu_ins_new_df[\"Insulin\"]\n",
    "(slope, intercept, rvalue, pvalue, stderr) = linregress(x_values, y_values)\n",
    "regress_values = x_values * slope + intercept\n",
    "line_eq = \"y = \" + str(round(slope,2)) + \"x + \" + str(round(intercept,2))\n",
    "plt.scatter(x_values, y_values, c = \"g\")\n",
    "plt.plot(x_values,regress_values,\"r-\")\n",
    "plt.annotate(line_eq,(60,400),fontsize=15, color = \"red\")\n",
    "plt.xlabel(\"Glucose Levels\")\n",
    "plt.ylabel(\"Insulin Values\")\n",
    "plt.title(\"Glucose Levels vs Insulin Levels\")\n",
    "plt.show()\n",
    "print(rvalue)"
   ]
  },
  {
   "cell_type": "code",
   "execution_count": null,
   "id": "8c57560a",
   "metadata": {},
   "outputs": [],
   "source": []
  },
  {
   "cell_type": "markdown",
   "id": "877232db",
   "metadata": {},
   "source": [
    "# Box and Whisker of Glucose Levels"
   ]
  },
  {
   "cell_type": "code",
   "execution_count": 69,
   "id": "f0382ed3",
   "metadata": {},
   "outputs": [
    {
     "data": {
      "image/png": "[encoded data removed]",
      "text/plain": [
       "<Figure size 640x480 with 1 Axes>"
      ]
     },
     "metadata": {},
     "output_type": "display_data"
    }
   ],
   "source": [
    "#Assign variable for glucose\n",
    "glucose = glu_ins_new_df[\"Glucose\"]\n",
    "\n",
    "plt.boxplot(glucose)\n",
    "plt.title(\"Glucose Levels All\")\n",
    "plt.show()\n",
    "\n"
   ]
  },
  {
   "cell_type": "code",
   "execution_count": 70,
   "id": "9618f293",
   "metadata": {
    "scrolled": true
   },
   "outputs": [
    {
     "name": "stdout",
     "output_type": "stream",
     "text": [
      "The lower quartile is: 99.0\n",
      "The upper quartile is 143.5\n",
      "The median is: 120.0\n",
      "The IQR is: 44.5\n",
      "Lower Bound: 32.25\n",
      "Upper Bound: 210.25\n",
      "The max value is: 198.0\n",
      "The min value is: 56.0\n",
      "There are no outliers\n"
     ]
    }
   ],
   "source": [
    "#Statistical Analysis for all\n",
    "quartiles = glucose.quantile([.25, .5, .75])\n",
    "lowerq = quartiles[0.25]\n",
    "upperq = quartiles[0.75]\n",
    "iqr=upperq-lowerq\n",
    "\n",
    "print(f\"The lower quartile is: {lowerq}\")\n",
    "print(f\"The upper quartile is {upperq}\")\n",
    "print(f\"The median is: {quartiles[0.5]}\")\n",
    "print(f\"The IQR is: {iqr}\")\n",
    "\n",
    "lower_bound = lowerq - (1.5*iqr)\n",
    "upper_bound = upperq + (1.5*iqr)\n",
    "\n",
    "print(f\"Lower Bound: {lower_bound}\")\n",
    "print(f\"Upper Bound: {upper_bound}\")\n",
    "\n",
    "print(f\"The max value is: {glucose.max()}\")\n",
    "print(f\"The min value is: {glucose.min()}\")\n",
    "print(\"There are no outliers\")"
   ]
  },
  {
   "cell_type": "code",
   "execution_count": null,
   "id": "3dd120b1",
   "metadata": {},
   "outputs": [],
   "source": []
  },
  {
   "cell_type": "markdown",
   "id": "f5bb4b8a",
   "metadata": {},
   "source": [
    "# Box and Whisker of Glucose with Diabetes"
   ]
  },
  {
   "cell_type": "code",
   "execution_count": 71,
   "id": "6133600c",
   "metadata": {},
   "outputs": [
    {
     "data": {
      "text/plain": [
       "Age                         952\n",
       "Pregnancies                 952\n",
       "Glucose                     944\n",
       "BloodPressure               897\n",
       "SkinThickness               647\n",
       "Insulin                     467\n",
       "BMI                         947\n",
       "DiabetesPedigreeFunction    952\n",
       "Outcome                     952\n",
       "Age Groups                  952\n",
       "dtype: int64"
      ]
     },
     "execution_count": 71,
     "metadata": {},
     "output_type": "execute_result"
    }
   ],
   "source": [
    "#Filter to only those with diabetes\n",
    "\n",
    "glucose_yes_df = data_set_final_df.loc[data_set_final_df[\"Outcome\"]==1]\n",
    "glucose_yes_df.count()"
   ]
  },
  {
   "cell_type": "code",
   "execution_count": 72,
   "id": "63b392dc",
   "metadata": {},
   "outputs": [
    {
     "data": {
      "text/plain": [
       "Glucose    944\n",
       "Outcome    952\n",
       "dtype: int64"
      ]
     },
     "execution_count": 72,
     "metadata": {},
     "output_type": "execute_result"
    }
   ],
   "source": [
    "#Make new data frame with only necessary columns\n",
    "glucose_yes_df = glucose_yes_df[[\"Glucose\", \"Outcome\"]]\n",
    "glucose_yes_df.count()"
   ]
  },
  {
   "cell_type": "code",
   "execution_count": 73,
   "id": "434c96ac",
   "metadata": {},
   "outputs": [
    {
     "data": {
      "text/plain": [
       "Glucose    944\n",
       "Outcome    944\n",
       "dtype: int64"
      ]
     },
     "execution_count": 73,
     "metadata": {},
     "output_type": "execute_result"
    }
   ],
   "source": [
    "#Drop Null Values\n",
    "glucose_yes_new_df = glucose_yes_df.dropna(how=\"any\")\n",
    "glucose_yes_new_df.count()"
   ]
  },
  {
   "cell_type": "code",
   "execution_count": 74,
   "id": "b04f6940",
   "metadata": {},
   "outputs": [
    {
     "data": {
      "image/png": "[encoded data removed]",
      "text/plain": [
       "<Figure size 640x480 with 1 Axes>"
      ]
     },
     "metadata": {},
     "output_type": "display_data"
    }
   ],
   "source": [
    "#Assign variable for Glucose\n",
    "glucose_yes = glucose_yes_new_df[\"Glucose\"]\n",
    "plt.boxplot(glucose_yes)\n",
    "plt.title(\"Glucose Levels Patients with Diabetes\")\n",
    "plt.show()"
   ]
  },
  {
   "cell_type": "code",
   "execution_count": null,
   "id": "2dbabd1c",
   "metadata": {},
   "outputs": [],
   "source": []
  },
  {
   "cell_type": "markdown",
   "id": "b3269434",
   "metadata": {},
   "source": [
    "# Box and Whisker for Glucose Not with Diabetes"
   ]
  },
  {
   "cell_type": "code",
   "execution_count": 75,
   "id": "95ea1c38",
   "metadata": {},
   "outputs": [
    {
     "data": {
      "text/plain": [
       "Age                         1816\n",
       "Pregnancies                 1816\n",
       "Glucose                     1806\n",
       "BloodPressure               1746\n",
       "SkinThickness               1321\n",
       "Insulin                      971\n",
       "BMI                         1782\n",
       "DiabetesPedigreeFunction    1816\n",
       "Outcome                     1816\n",
       "Age Groups                  1816\n",
       "dtype: int64"
      ]
     },
     "execution_count": 75,
     "metadata": {},
     "output_type": "execute_result"
    }
   ],
   "source": [
    "#Filter to only those with diabetes\n",
    "\n",
    "glucose_no_df = data_set_final_df.loc[data_set_final_df[\"Outcome\"]==0]\n",
    "glucose_no_df.count()"
   ]
  },
  {
   "cell_type": "code",
   "execution_count": 76,
   "id": "9d42e000",
   "metadata": {},
   "outputs": [
    {
     "data": {
      "text/plain": [
       "Glucose    1806\n",
       "Outcome    1816\n",
       "dtype: int64"
      ]
     },
     "execution_count": 76,
     "metadata": {},
     "output_type": "execute_result"
    }
   ],
   "source": [
    "#Make new data frame with only necessary columns\n",
    "glucose_no_df = glucose_no_df[[\"Glucose\", \"Outcome\"]]\n",
    "glucose_no_df.count()"
   ]
  },
  {
   "cell_type": "code",
   "execution_count": 77,
   "id": "c3ec1237",
   "metadata": {},
   "outputs": [
    {
     "data": {
      "text/plain": [
       "Glucose    1806\n",
       "Outcome    1806\n",
       "dtype: int64"
      ]
     },
     "execution_count": 77,
     "metadata": {},
     "output_type": "execute_result"
    }
   ],
   "source": [
    "#Drop Null Values\n",
    "glucose_no_new_df = glucose_no_df.dropna(how=\"any\")\n",
    "glucose_no_new_df.count()"
   ]
  },
  {
   "cell_type": "code",
   "execution_count": 78,
   "id": "c0f856f4",
   "metadata": {},
   "outputs": [
    {
     "data": {
      "image/png": "[encoded data removed]",
      "text/plain": [
       "<Figure size 640x480 with 1 Axes>"
      ]
     },
     "metadata": {},
     "output_type": "display_data"
    }
   ],
   "source": [
    "#Assign variable for Glucose\n",
    "glucose_no = glucose_no_new_df[\"Glucose\"]\n",
    "plt.boxplot(glucose_no)\n",
    "plt.title(\"Glucose Levels Patients without Diabetes\")\n",
    "plt.show()"
   ]
  },
  {
   "cell_type": "code",
   "execution_count": null,
   "id": "d276424f",
   "metadata": {},
   "outputs": [],
   "source": []
  },
  {
   "cell_type": "markdown",
   "id": "b8899504",
   "metadata": {},
   "source": [
    "# Multiple Box Plots - Glucose Levels"
   ]
  },
  {
   "cell_type": "code",
   "execution_count": 79,
   "id": "039b9a26",
   "metadata": {},
   "outputs": [
    {
     "ename": "AttributeError",
     "evalue": "'str' object has no attribute 'set_facecolor'",
     "output_type": "error",
     "traceback": [
      "\u001b[0;31m---------------------------------------------------------------------------\u001b[0m",
      "\u001b[0;31mAttributeError\u001b[0m                            Traceback (most recent call last)",
      "Cell \u001b[0;32mIn[79], line 13\u001b[0m\n\u001b[1;32m     11\u001b[0m \u001b[38;5;28;01mfor\u001b[39;00m plot \u001b[38;5;129;01min\u001b[39;00m (plot_1, plot_2):\n\u001b[1;32m     12\u001b[0m     \u001b[38;5;28;01mfor\u001b[39;00m patch, color \u001b[38;5;129;01min\u001b[39;00m \u001b[38;5;28mzip\u001b[39m(plot, colors):\n\u001b[0;32m---> 13\u001b[0m         patch\u001b[38;5;241m.\u001b[39mset_facecolor(color)\n\u001b[1;32m     16\u001b[0m plt\u001b[38;5;241m.\u001b[39mshow()\n",
      "\u001b[0;31mAttributeError\u001b[0m: 'str' object has no attribute 'set_facecolor'"
     ]
    },
    {
     "data": {
      "image/png": "[encoded data removed]",
      "text/plain": [
       "<Figure size 640x480 with 2 Axes>"
      ]
     },
     "metadata": {},
     "output_type": "display_data"
    }
   ],
   "source": [
    "fig, (ax1, ax2)=plt.subplots(nrows=1, ncols=2)\n",
    "plot_1 = ax1.boxplot(glucose_yes)\n",
    "plot_2 = ax2.boxplot(glucose_no)\n",
    "\n",
    "ax1.set_title(\"Glucose Levels\")\n",
    "\n",
    "tick_locations = [1, 2]\n",
    "plt.xticks(tick_locations,[\"Has Diabetes\", \"Does Not Have Diabetes\"])\n",
    "\n",
    "colors = [\"mistyrose\", \"lightsteelblue\"]\n",
    "for plot in (plot_1, plot_2):\n",
    "    for patch, color in zip(plot, colors):\n",
    "        patch.set_facecolor(color)\n",
    "        \n",
    "        \n",
    "plt.show()"
   ]
  },
  {
   "cell_type": "code",
   "execution_count": 80,
   "id": "2012daa0",
   "metadata": {},
   "outputs": [
    {
     "data": {
      "image/png": "[encoded data removed]",
      "text/plain": [
       "<Figure size 640x480 with 1 Axes>"
      ]
     },
     "metadata": {},
     "output_type": "display_data"
    }
   ],
   "source": [
    "x_axis = [glucose_yes, glucose_no]\n",
    "fig, ax1 = plt.subplots()\n",
    "ax1.set_ylabel(\"Glucose Level\")\n",
    "y = ax1.boxplot(x_axis)\n",
    "ax1.set_title(\"Glucose Levels\")\n",
    "ax1.yaxis.grid(True)\n",
    "\n",
    "tick_locations = [1, 2]\n",
    "plt.xticks(tick_locations,[\"Has Diabetes\", \"Does Not Have Diabetes\"])\n",
    "\n",
    "plt.savefig(\"Images/Glucose.png\")\n",
    "\n",
    "plt.show()"
   ]
  },
  {
   "cell_type": "code",
   "execution_count": null,
   "id": "1f18330c",
   "metadata": {},
   "outputs": [],
   "source": []
  },
  {
   "cell_type": "markdown",
   "id": "406e40f2",
   "metadata": {},
   "source": [
    "# Box and Whisker Blood Pressure"
   ]
  },
  {
   "cell_type": "code",
   "execution_count": 81,
   "id": "37376f94",
   "metadata": {},
   "outputs": [
    {
     "data": {
      "text/plain": [
       "BloodPressure    897\n",
       "Outcome          897\n",
       "dtype: int64"
      ]
     },
     "execution_count": 81,
     "metadata": {},
     "output_type": "execute_result"
    }
   ],
   "source": [
    "#Filter to only those with Diabetes\n",
    "bp_yes_df = data_set_final_df.loc[data_set_final_df[\"Outcome\"]==1]\n",
    "\n",
    "#Make new data frame with only necessary columns for Diabetes\n",
    "bp_yes_df = bp_yes_df[[\"BloodPressure\", \"Outcome\"]]\n",
    "\n",
    "#Clean data for Diabetes and check counts\n",
    "bp_yes_df = bp_yes_df.dropna(how=\"any\")\n",
    "bp_yes_df.count()"
   ]
  },
  {
   "cell_type": "code",
   "execution_count": 82,
   "id": "92115ca4",
   "metadata": {},
   "outputs": [
    {
     "data": {
      "text/plain": [
       "BloodPressure    1746\n",
       "Outcome          1746\n",
       "dtype: int64"
      ]
     },
     "execution_count": 82,
     "metadata": {},
     "output_type": "execute_result"
    }
   ],
   "source": [
    "#Filter to only those without Diabetes\n",
    "bp_no_df = data_set_final_df.loc[data_set_final_df[\"Outcome\"]==0]\n",
    "\n",
    "#Make new data frame with only necessary columns for Diabetes\n",
    "bp_no_df = bp_no_df[[\"BloodPressure\", \"Outcome\"]]\n",
    "\n",
    "#Clean data for Diabetes and check counts\n",
    "bp_no_df = bp_no_df.dropna(how=\"any\")\n",
    "bp_no_df.count()"
   ]
  },
  {
   "cell_type": "code",
   "execution_count": 83,
   "id": "81792c19",
   "metadata": {},
   "outputs": [
    {
     "data": {
      "image/png": "[encoded data removed]",
      "text/plain": [
       "<Figure size 640x480 with 1 Axes>"
      ]
     },
     "metadata": {},
     "output_type": "display_data"
    }
   ],
   "source": [
    "#Box Plots\n",
    "#Assign variable for Blood Pressure Diabetes Yes\n",
    "bp_yes = bp_yes_df[\"BloodPressure\"]\n",
    "#Assign variable for Blood Pressure Diabetes No\n",
    "bp_no = bp_no_df[\"BloodPressure\"]\n",
    "\n",
    "#Plot\n",
    "x_axis = [bp_yes, bp_no]\n",
    "fig, ax1 = plt.subplots()\n",
    "ax1.set_ylabel(\"Blood Pressure\")\n",
    "y = ax1.boxplot(x_axis)\n",
    "ax1.set_title(\"Blood Pressure Levels\")\n",
    "ax1.yaxis.grid(True)\n",
    "\n",
    "tick_locations = [1, 2]\n",
    "plt.xticks(tick_locations,[\"Has Diabetes\", \"Does Not Have Diabetes\"])\n",
    "\n",
    "plt.savefig(\"Images/BloodPressure.png\")\n",
    "\n",
    "plt.show()"
   ]
  },
  {
   "cell_type": "code",
   "execution_count": null,
   "id": "6be5e6a5",
   "metadata": {},
   "outputs": [],
   "source": []
  },
  {
   "cell_type": "markdown",
   "id": "4ea807bd",
   "metadata": {},
   "source": [
    "# Box and Whisker for Insulin Levels"
   ]
  },
  {
   "cell_type": "code",
   "execution_count": 84,
   "id": "ad96653c",
   "metadata": {},
   "outputs": [
    {
     "data": {
      "text/plain": [
       "Insulin    467\n",
       "Outcome    467\n",
       "dtype: int64"
      ]
     },
     "execution_count": 84,
     "metadata": {},
     "output_type": "execute_result"
    }
   ],
   "source": [
    "#Filter to only those with Diabetes\n",
    "ins_yes_df = data_set_final_df.loc[data_set_final_df[\"Outcome\"]==1]\n",
    "\n",
    "#Make new data frame with only necessary columns for Diabetes\n",
    "ins_yes_df = ins_yes_df[[\"Insulin\", \"Outcome\"]]\n",
    "\n",
    "#Clean data for Diabetes and check counts\n",
    "ins_yes_df = ins_yes_df.dropna(how=\"any\")\n",
    "ins_yes_df.count()"
   ]
  },
  {
   "cell_type": "code",
   "execution_count": 85,
   "id": "6f904543",
   "metadata": {},
   "outputs": [
    {
     "data": {
      "text/plain": [
       "Insulin    971\n",
       "Outcome    971\n",
       "dtype: int64"
      ]
     },
     "execution_count": 85,
     "metadata": {},
     "output_type": "execute_result"
    }
   ],
   "source": [
    "#Filter to only those without Diabetes\n",
    "ins_no_df = data_set_final_df.loc[data_set_final_df[\"Outcome\"]==0]\n",
    "\n",
    "#Make new data frame with only necessary columns for Diabetes\n",
    "ins_no_df = ins_no_df[[\"Insulin\", \"Outcome\"]]\n",
    "\n",
    "#Clean data for Diabetes and check counts\n",
    "ins_no_df = ins_no_df.dropna(how=\"any\")\n",
    "ins_no_df.count()"
   ]
  },
  {
   "cell_type": "code",
   "execution_count": 86,
   "id": "234ee3e8",
   "metadata": {},
   "outputs": [
    {
     "data": {
      "image/png": "[encoded data removed]",
      "text/plain": [
       "<Figure size 640x480 with 1 Axes>"
      ]
     },
     "metadata": {},
     "output_type": "display_data"
    }
   ],
   "source": [
    "#Box Plots\n",
    "#Assign variable for Insulin Diabetes Yes\n",
    "ins_yes = ins_yes_df[\"Insulin\"]\n",
    "#Assign variable for Insulin Diabetes No\n",
    "ins_no = ins_no_df[\"Insulin\"]\n",
    "\n",
    "#Plot\n",
    "x_axis = [ins_yes, ins_no]\n",
    "fig, ax1 = plt.subplots()\n",
    "ax1.set_ylabel(\"Insulin Levels\")\n",
    "y = ax1.boxplot(x_axis)\n",
    "ax1.set_title(\"Insulin Levels\")\n",
    "ax1.yaxis.grid(True)\n",
    "\n",
    "tick_locations = [1, 2]\n",
    "plt.xticks(tick_locations,[\"Has Diabetes\", \"Does Not Have Diabetes\"])\n",
    "\n",
    "plt.savefig(\"Images/Insulin.png\")\n",
    "\n",
    "plt.show()"
   ]
  },
  {
   "cell_type": "code",
   "execution_count": null,
   "id": "77315f0e",
   "metadata": {},
   "outputs": [],
   "source": []
  },
  {
   "cell_type": "markdown",
   "id": "3d00742a",
   "metadata": {},
   "source": [
    "# Box and Whisker Plot for Skin Thickness"
   ]
  },
  {
   "cell_type": "code",
   "execution_count": 87,
   "id": "a0f348a2",
   "metadata": {},
   "outputs": [
    {
     "data": {
      "text/plain": [
       "SkinThickness    647\n",
       "Outcome          647\n",
       "dtype: int64"
      ]
     },
     "execution_count": 87,
     "metadata": {},
     "output_type": "execute_result"
    }
   ],
   "source": [
    "#Filter to only those with Diabetes\n",
    "skin_yes_df = data_set_final_df.loc[data_set_final_df[\"Outcome\"]==1]\n",
    "\n",
    "#Make new data frame with only necessary columns for Diabetes\n",
    "skin_yes_df = skin_yes_df[[\"SkinThickness\", \"Outcome\"]]\n",
    "\n",
    "#Clean data for Diabetes and check counts\n",
    "skin_yes_df = skin_yes_df.dropna(how=\"any\")\n",
    "skin_yes_df.count()"
   ]
  },
  {
   "cell_type": "code",
   "execution_count": 88,
   "id": "890930d8",
   "metadata": {},
   "outputs": [
    {
     "data": {
      "text/plain": [
       "SkinThickness    1321\n",
       "Outcome          1321\n",
       "dtype: int64"
      ]
     },
     "execution_count": 88,
     "metadata": {},
     "output_type": "execute_result"
    }
   ],
   "source": [
    "#Filter to only those without Diabetes\n",
    "skin_no_df = data_set_final_df.loc[data_set_final_df[\"Outcome\"]==0]\n",
    "\n",
    "#Make new data frame with only necessary columns for Diabetes\n",
    "skin_no_df = skin_no_df[[\"SkinThickness\", \"Outcome\"]]\n",
    "\n",
    "#Clean data for Diabetes and check counts\n",
    "skin_no_df = skin_no_df.dropna(how=\"any\")\n",
    "skin_no_df.count()"
   ]
  },
  {
   "cell_type": "code",
   "execution_count": 90,
   "id": "d9051699",
   "metadata": {},
   "outputs": [
    {
     "data": {
      "image/png": "[encoded data removed]",
      "text/plain": [
       "<Figure size 640x480 with 1 Axes>"
      ]
     },
     "metadata": {},
     "output_type": "display_data"
    }
   ],
   "source": [
    "#Box Plots\n",
    "#Assign variable for Skin Thickness Diabetes Yes\n",
    "skin_yes = skin_yes_df[\"SkinThickness\"]\n",
    "#Assign variable for Skin Thickness Diabetes No\n",
    "skin_no = skin_no_df[\"SkinThickness\"]\n",
    "\n",
    "#Plot\n",
    "x_axis = [skin_yes, skin_no]\n",
    "fig, ax1 = plt.subplots()\n",
    "ax1.set_ylabel(\"Skin Thickness\")\n",
    "y = ax1.boxplot(x_axis)\n",
    "ax1.set_title(\"Skin Thickness\")\n",
    "ax1.yaxis.grid(True)\n",
    "\n",
    "tick_locations = [1, 2]\n",
    "plt.xticks(tick_locations,[\"Has Diabetes\", \"Does Not Have Diabetes\"])\n",
    "\n",
    "plt.savefig(\"Images/Skin.png\")\n",
    "\n",
    "plt.show()"
   ]
  },
  {
   "cell_type": "code",
   "execution_count": null,
   "id": "a9830f66",
   "metadata": {},
   "outputs": [],
   "source": []
  },
  {
   "cell_type": "markdown",
   "id": "5e95411b",
   "metadata": {},
   "source": [
    "# Box and Whisker for BMI"
   ]
  },
  {
   "cell_type": "code",
   "execution_count": 91,
   "id": "5704bc5f",
   "metadata": {},
   "outputs": [
    {
     "data": {
      "text/plain": [
       "BMI        947\n",
       "Outcome    947\n",
       "dtype: int64"
      ]
     },
     "execution_count": 91,
     "metadata": {},
     "output_type": "execute_result"
    }
   ],
   "source": [
    "#Filter to only those with Diabetes\n",
    "bmi_yes_df = data_set_final_df.loc[data_set_final_df[\"Outcome\"]==1]\n",
    "\n",
    "#Make new data frame with only necessary columns for Diabetes\n",
    "bmi_yes_df = bmi_yes_df[[\"BMI\", \"Outcome\"]]\n",
    "\n",
    "#Clean data for Diabetes and check counts\n",
    "bmi_yes_df = bmi_yes_df.dropna(how=\"any\")\n",
    "bmi_yes_df.count()"
   ]
  },
  {
   "cell_type": "code",
   "execution_count": 92,
   "id": "c9441e0b",
   "metadata": {},
   "outputs": [
    {
     "data": {
      "text/plain": [
       "BMI        1782\n",
       "Outcome    1782\n",
       "dtype: int64"
      ]
     },
     "execution_count": 92,
     "metadata": {},
     "output_type": "execute_result"
    }
   ],
   "source": [
    "#Filter to only those without Diabetes\n",
    "bmi_no_df = data_set_final_df.loc[data_set_final_df[\"Outcome\"]==0]\n",
    "\n",
    "#Make new data frame with only necessary columns for Diabetes\n",
    "bmi_no_df = bmi_no_df[[\"BMI\", \"Outcome\"]]\n",
    "\n",
    "#Clean data for Diabetes and check counts\n",
    "bmi_no_df = bmi_no_df.dropna(how=\"any\")\n",
    "bmi_no_df.count()"
   ]
  },
  {
   "cell_type": "code",
   "execution_count": 93,
   "id": "556b3f18",
   "metadata": {},
   "outputs": [
    {
     "data": {
      "image/png": "[encoded data removed]",
      "text/plain": [
       "<Figure size 640x480 with 1 Axes>"
      ]
     },
     "metadata": {},
     "output_type": "display_data"
    }
   ],
   "source": [
    "#Box Plots\n",
    "#Assign variable for BMI Diabetes Yes\n",
    "bmi_yes = bmi_yes_df[\"BMI\"]\n",
    "#Assign variable for BMI Diabetes No\n",
    "bmi_no = bmi_no_df[\"BMI\"]\n",
    "\n",
    "#Plot\n",
    "x_axis = [bmi_yes, bmi_no]\n",
    "fig, ax1 = plt.subplots()\n",
    "ax1.set_ylabel(\"BMI Number\")\n",
    "y = ax1.boxplot(x_axis)\n",
    "ax1.set_title(\"BMI Number\")\n",
    "ax1.yaxis.grid(True)\n",
    "\n",
    "tick_locations = [1, 2]\n",
    "plt.xticks(tick_locations,[\"Has Diabetes\", \"Does Not Have Diabetes\"])\n",
    "\n",
    "plt.savefig(\"Images/BMI.png\")\n",
    "\n",
    "plt.show()"
   ]
  },
  {
   "cell_type": "code",
   "execution_count": null,
   "id": "dacacad1",
   "metadata": {},
   "outputs": [],
   "source": []
  },
  {
   "cell_type": "markdown",
   "id": "ec1c221b",
   "metadata": {},
   "source": [
    "# Box Plot DiabetesPedigreeFunction"
   ]
  },
  {
   "cell_type": "code",
   "execution_count": 94,
   "id": "96399c94",
   "metadata": {},
   "outputs": [
    {
     "data": {
      "text/plain": [
       "DiabetesPedigreeFunction    952\n",
       "Outcome                     952\n",
       "dtype: int64"
      ]
     },
     "execution_count": 94,
     "metadata": {},
     "output_type": "execute_result"
    }
   ],
   "source": [
    "#Filter to only those with Diabetes\n",
    "dpf_yes_df = data_set_final_df.loc[data_set_final_df[\"Outcome\"]==1]\n",
    "\n",
    "#Make new data frame with only necessary columns for Diabetes\n",
    "dpf_yes_df = dpf_yes_df[[\"DiabetesPedigreeFunction\", \"Outcome\"]]\n",
    "\n",
    "#Clean data for Diabetes and check counts\n",
    "dpf_yes_df = dpf_yes_df.dropna(how=\"any\")\n",
    "dpf_yes_df.count()"
   ]
  },
  {
   "cell_type": "code",
   "execution_count": 95,
   "id": "c1b5b100",
   "metadata": {},
   "outputs": [
    {
     "data": {
      "text/plain": [
       "DiabetesPedigreeFunction    1816\n",
       "Outcome                     1816\n",
       "dtype: int64"
      ]
     },
     "execution_count": 95,
     "metadata": {},
     "output_type": "execute_result"
    }
   ],
   "source": [
    "#Filter to only those with Diabetes\n",
    "dpf_no_df = data_set_final_df.loc[data_set_final_df[\"Outcome\"]==0]\n",
    "\n",
    "#Make new data frame with only necessary columns for Diabetes\n",
    "dpf_no_df = dpf_no_df[[\"DiabetesPedigreeFunction\", \"Outcome\"]]\n",
    "\n",
    "#Clean data for Diabetes and check counts\n",
    "dpf_no_df = dpf_no_df.dropna(how=\"any\")\n",
    "dpf_no_df.count()"
   ]
  },
  {
   "cell_type": "code",
   "execution_count": 96,
   "id": "7ac19bce",
   "metadata": {
    "scrolled": true
   },
   "outputs": [
    {
     "data": {
      "image/png": "[encoded data removed]",
      "text/plain": [
       "<Figure size 640x480 with 1 Axes>"
      ]
     },
     "metadata": {},
     "output_type": "display_data"
    }
   ],
   "source": [
    "#Box Plots\n",
    "#Assign variable for \"DiabetesPedigreeFunction\" Diabetes Yes\n",
    "dpf_yes = dpf_yes_df[\"DiabetesPedigreeFunction\"]\n",
    "#Assign variable for \"DiabetesPedigreeFunction\" Diabetes No\n",
    "dpf_no = dpf_no_df[\"DiabetesPedigreeFunction\"]\n",
    "\n",
    "#Plot\n",
    "x_axis = [dpf_yes, dpf_no]\n",
    "fig, ax1 = plt.subplots()\n",
    "ax1.set_ylabel(\"Diabetes Pedigree Function\")\n",
    "y = ax1.boxplot(x_axis)\n",
    "ax1.set_title(\"Diabetes Pedigree Function\")\n",
    "ax1.yaxis.grid(True)\n",
    "\n",
    "tick_locations = [1, 2]\n",
    "plt.xticks(tick_locations,[\"Has Diabetes\", \"Does Not Have Diabetes\"])\n",
    "\n",
    "plt.savefig(\"Images/DPF.png\")\n",
    "\n",
    "plt.show()"
   ]
  },
  {
   "cell_type": "code",
   "execution_count": null,
   "id": "f24a6421",
   "metadata": {},
   "outputs": [],
   "source": []
  },
  {
   "cell_type": "markdown",
   "id": "90e765dc",
   "metadata": {},
   "source": [
    "# Box Plot of Age"
   ]
  },
  {
   "cell_type": "code",
   "execution_count": 97,
   "id": "1e5e99dc",
   "metadata": {},
   "outputs": [
    {
     "data": {
      "text/plain": [
       "Age        952\n",
       "Outcome    952\n",
       "dtype: int64"
      ]
     },
     "execution_count": 97,
     "metadata": {},
     "output_type": "execute_result"
    }
   ],
   "source": [
    "#Filter to only those with Diabetes\n",
    "age_yes_df = data_set_final_df.loc[data_set_final_df[\"Outcome\"]==1]\n",
    "\n",
    "#Make new data frame with only necessary columns for Diabetes\n",
    "age_yes_df = age_yes_df[[\"Age\", \"Outcome\"]]\n",
    "\n",
    "#Clean data for Diabetes and check counts\n",
    "age_yes_df = age_yes_df.dropna(how=\"any\")\n",
    "age_yes_df.count()"
   ]
  },
  {
   "cell_type": "code",
   "execution_count": 98,
   "id": "03102471",
   "metadata": {},
   "outputs": [
    {
     "data": {
      "text/plain": [
       "Age        1816\n",
       "Outcome    1816\n",
       "dtype: int64"
      ]
     },
     "execution_count": 98,
     "metadata": {},
     "output_type": "execute_result"
    }
   ],
   "source": [
    "#Filter to only those with Diabetes\n",
    "age_no_df = data_set_final_df.loc[data_set_final_df[\"Outcome\"]==0]\n",
    "\n",
    "#Make new data frame with only necessary columns for Diabetes\n",
    "age_no_df = age_no_df[[\"Age\", \"Outcome\"]]\n",
    "\n",
    "#Clean data for Diabetes and check counts\n",
    "age_no_df = age_no_df.dropna(how=\"any\")\n",
    "age_no_df.count()"
   ]
  },
  {
   "cell_type": "code",
   "execution_count": 99,
   "id": "bb9b46df",
   "metadata": {},
   "outputs": [
    {
     "data": {
      "image/png": "[encoded data removed]",
      "text/plain": [
       "<Figure size 640x480 with 1 Axes>"
      ]
     },
     "metadata": {},
     "output_type": "display_data"
    }
   ],
   "source": [
    "#Box Plots\n",
    "#Assign variable for \"DiabetesPedigreeFunction\" Diabetes Yes\n",
    "age_yes = age_yes_df[\"Age\"]\n",
    "#Assign variable for \"DiabetesPedigreeFunction\" Diabetes No\n",
    "age_no = age_no_df[\"Age\"]\n",
    "\n",
    "#Plot\n",
    "x_axis = [age_yes, age_no]\n",
    "fig, ax1 = plt.subplots()\n",
    "ax1.set_ylabel(\"Age\")\n",
    "y = ax1.boxplot(x_axis)\n",
    "ax1.set_title(\"Age\")\n",
    "ax1.yaxis.grid(True)\n",
    "\n",
    "tick_locations = [1, 2]\n",
    "plt.xticks(tick_locations,[\"Has Diabetes\", \"Does Not Have Diabetes\"])\n",
    "\n",
    "plt.savefig(\"Images/Age.png\")\n",
    "\n",
    "\n",
    "plt.show()"
   ]
  },
  {
   "cell_type": "code",
   "execution_count": null,
   "id": "090255f7",
   "metadata": {},
   "outputs": [],
   "source": []
  },
  {
   "cell_type": "code",
   "execution_count": null,
   "id": "22519ec8",
   "metadata": {},
   "outputs": [],
   "source": []
  },
  {
   "cell_type": "code",
   "execution_count": null,
   "id": "d56aa2a9",
   "metadata": {},
   "outputs": [],
   "source": []
  },
  {
   "cell_type": "code",
   "execution_count": null,
   "id": "770bbec5",
   "metadata": {},
   "outputs": [],
   "source": [
    "#glucose and bmi\n",
    "#glucose and skin thickness\n",
    "#glucose and insulin for outcomes 0 and 1\n",
    "#glucose with blood pressure\n",
    "#glucose and pedigree function\n",
    "\n",
    "#variables box and whiskers"
   ]
  }
 ],
 "metadata": {
  "kernelspec": {
   "display_name": "Python 3 (ipykernel)",
   "language": "python",
   "name": "python3"
  },
  "language_info": {
   "codemirror_mode": {
    "name": "ipython",
    "version": 3
   },
   "file_extension": ".py",
   "mimetype": "text/x-python",
   "name": "python",
   "nbconvert_exporter": "python",
   "pygments_lexer": "ipython3",
   "version": "3.11.5"
  }
 },
 "nbformat": 4,
 "nbformat_minor": 5
}
